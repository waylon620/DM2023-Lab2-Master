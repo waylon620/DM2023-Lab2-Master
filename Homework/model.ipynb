{
 "cells": [
  {
   "cell_type": "code",
   "execution_count": 1,
   "metadata": {},
   "outputs": [],
   "source": [
    "import pandas as pd\n",
    "import json\n",
    "from nltk import pos_tag, word_tokenize\n",
    "from nltk.stem import WordNetLemmatizer\n",
    "from nltk.tokenize import word_tokenize\n",
    "from sklearn.model_selection import train_test_split\n",
    "from sklearn.feature_extraction.text import CountVectorizer\n",
    "from sklearn.tree import DecisionTreeClassifier\n",
    "from sklearn.naive_bayes import MultinomialNB\n",
    "from sklearn.metrics import accuracy_score, classification_report\n",
    "import nltk"
   ]
  },
  {
   "cell_type": "code",
   "execution_count": 28,
   "metadata": {},
   "outputs": [
    {
     "name": "stdout",
     "output_type": "stream",
     "text": [
      "Class\t\tCount\n",
      "--------------------\n",
      "joy\t\t516017\n",
      "anticipation\t\t248935\n",
      "trust\t\t205478\n",
      "sadness\t\t193437\n",
      "disgust\t\t139101\n",
      "fear\t\t63999\n",
      "surprise\t\t48729\n",
      "anger\t\t39867\n",
      "sum:  1455563\n"
     ]
    }
   ],
   "source": [
    "# Read the CSV file into a DataFrame\n",
    "df = pd.read_csv('emotion.csv')\n",
    "\n",
    "# Count the occurrences of each emotion class\n",
    "class_counts = df['emotion'].value_counts()\n",
    "\n",
    "# Print the result\n",
    "print(\"Class\\t\\tCount\")\n",
    "print(\"--------------------\")\n",
    "sum = 0\n",
    "for emotion_class, count in class_counts.items():\n",
    "    sum += count\n",
    "    print(f\"{emotion_class}\\t\\t{count}\")\n",
    "    \n",
    "print(\"sum: \", sum)\n"
   ]
  },
  {
   "cell_type": "code",
   "execution_count": 29,
   "metadata": {},
   "outputs": [
    {
     "name": "stdout",
     "output_type": "stream",
     "text": [
      "1455563\n"
     ]
    },
    {
     "data": {
      "text/html": [
       "<div>\n",
       "<style scoped>\n",
       "    .dataframe tbody tr th:only-of-type {\n",
       "        vertical-align: middle;\n",
       "    }\n",
       "\n",
       "    .dataframe tbody tr th {\n",
       "        vertical-align: top;\n",
       "    }\n",
       "\n",
       "    .dataframe thead th {\n",
       "        text-align: right;\n",
       "    }\n",
       "</style>\n",
       "<table border=\"1\" class=\"dataframe\">\n",
       "  <thead>\n",
       "    <tr style=\"text-align: right;\">\n",
       "      <th></th>\n",
       "      <th>tweet_id</th>\n",
       "      <th>emotion</th>\n",
       "    </tr>\n",
       "  </thead>\n",
       "  <tbody>\n",
       "    <tr>\n",
       "      <th>0</th>\n",
       "      <td>0x3140b1</td>\n",
       "      <td>sadness</td>\n",
       "    </tr>\n",
       "    <tr>\n",
       "      <th>1</th>\n",
       "      <td>0x368b73</td>\n",
       "      <td>disgust</td>\n",
       "    </tr>\n",
       "    <tr>\n",
       "      <th>2</th>\n",
       "      <td>0x296183</td>\n",
       "      <td>anticipation</td>\n",
       "    </tr>\n",
       "    <tr>\n",
       "      <th>3</th>\n",
       "      <td>0x2bd6e1</td>\n",
       "      <td>joy</td>\n",
       "    </tr>\n",
       "    <tr>\n",
       "      <th>4</th>\n",
       "      <td>0x2ee1dd</td>\n",
       "      <td>anticipation</td>\n",
       "    </tr>\n",
       "  </tbody>\n",
       "</table>\n",
       "</div>"
      ],
      "text/plain": [
       "   tweet_id       emotion\n",
       "0  0x3140b1       sadness\n",
       "1  0x368b73       disgust\n",
       "2  0x296183  anticipation\n",
       "3  0x2bd6e1           joy\n",
       "4  0x2ee1dd  anticipation"
      ]
     },
     "execution_count": 29,
     "metadata": {},
     "output_type": "execute_result"
    }
   ],
   "source": [
    "print(df.shape[0])\n",
    "df.head()"
   ]
  },
  {
   "cell_type": "code",
   "execution_count": 30,
   "metadata": {},
   "outputs": [],
   "source": [
    "# Read the JSON lines into a list\n",
    "json_data = []\n",
    "with open('tweets_DM.json', 'r') as file:\n",
    "    for line in file:\n",
    "        json_data.append(json.loads(line))\n",
    "\n",
    "# Create a DataFrame from the JSON data\n",
    "df_json = pd.json_normalize(json_data, sep='_source_')\n",
    "\n",
    "# Extract the relevant columns\n",
    "df_json = df_json[['source_tweet_source_tweet_id', 'source_tweet_source_text']]\n",
    "\n",
    "# Rename columns for consistency\n",
    "df_json.columns = ['tweet_id', 'text']\n",
    "\n",
    "# Merge the two DataFrames based on the tweet_id\n",
    "df = pd.merge(df, df_json, on='tweet_id', how='left')"
   ]
  },
  {
   "cell_type": "code",
   "execution_count": 31,
   "metadata": {},
   "outputs": [
    {
     "name": "stdout",
     "output_type": "stream",
     "text": [
      "   tweet_id       emotion                                               text\n",
      "0  0x3140b1       sadness                             Why Chester? <LH> <LH>\n",
      "1  0x368b73       disgust  @JaredLeto you are the fish that Jonah.  Excep...\n",
      "2  0x296183  anticipation  He is coming back again and gonna come again q...\n",
      "3  0x2bd6e1           joy  Dei is really such a beautiful person inside &...\n",
      "4  0x2ee1dd  anticipation  Expressive praise is also an expression of fai...\n",
      "1455563\n"
     ]
    }
   ],
   "source": [
    "print(df.head())\n",
    "print(df.shape[0])\n",
    "# (df['identification'] == 'train').sum()"
   ]
  },
  {
   "cell_type": "code",
   "execution_count": 32,
   "metadata": {},
   "outputs": [],
   "source": [
    "# Read the CSV file into a DataFrame\n",
    "test_train = pd.read_csv('data_identification.csv')\n",
    "\n",
    "# Merge the two DataFrames based on the tweet_id\n",
    "df = pd.merge(df, test_train, on='tweet_id', how='left')\n",
    "\n",
    "test_df = test_train[test_train['identification']=='test']\n",
    "test_df = pd.merge(test_df, df_json, on='tweet_id', how='left')"
   ]
  },
  {
   "cell_type": "code",
   "execution_count": 33,
   "metadata": {},
   "outputs": [
    {
     "name": "stdout",
     "output_type": "stream",
     "text": [
      "   tweet_id       emotion                                               text  \\\n",
      "0  0x3140b1       sadness                             Why Chester? <LH> <LH>   \n",
      "1  0x368b73       disgust  @JaredLeto you are the fish that Jonah.  Excep...   \n",
      "2  0x296183  anticipation  He is coming back again and gonna come again q...   \n",
      "3  0x2bd6e1           joy  Dei is really such a beautiful person inside &...   \n",
      "4  0x2ee1dd  anticipation  Expressive praise is also an expression of fai...   \n",
      "\n",
      "  identification  \n",
      "0          train  \n",
      "1          train  \n",
      "2          train  \n",
      "3          train  \n",
      "4          train  \n"
     ]
    },
    {
     "data": {
      "text/plain": [
       "1455563"
      ]
     },
     "execution_count": 33,
     "metadata": {},
     "output_type": "execute_result"
    }
   ],
   "source": [
    "print(df.head())\n",
    "(df['identification'] == 'train').sum()\n"
   ]
  },
  {
   "cell_type": "code",
   "execution_count": 34,
   "metadata": {},
   "outputs": [
    {
     "name": "stdout",
     "output_type": "stream",
     "text": [
      "   tweet_id identification                                               text\n",
      "0  0x28cc61           test  @Habbo I've seen two separate colours of the e...\n",
      "1  0x2db41f           test  @FoxNews @KellyannePolls No serious self respe...\n",
      "2  0x2466f6           test  Looking for a new car, and it says 1 lady owne...\n",
      "3  0x23f9e9           test  @cineworld “only the brave” just out and fount...\n",
      "4  0x1fb4e1           test  Felt like total dog 💩 going into open gym and ...\n"
     ]
    },
    {
     "data": {
      "text/plain": [
       "(411972, 3)"
      ]
     },
     "execution_count": 34,
     "metadata": {},
     "output_type": "execute_result"
    }
   ],
   "source": [
    "print(test_df.head())\n",
    "test_df.shape"
   ]
  },
  {
   "cell_type": "code",
   "execution_count": 35,
   "metadata": {},
   "outputs": [
    {
     "name": "stdout",
     "output_type": "stream",
     "text": [
      "Empty DataFrame\n",
      "Columns: [tweet_id, emotion, text, identification]\n",
      "Index: []\n"
     ]
    }
   ],
   "source": [
    "print(df[df['identification'] == 'test'])"
   ]
  },
  {
   "cell_type": "markdown",
   "metadata": {},
   "source": [
    "#### Naive Bayes"
   ]
  },
  {
   "cell_type": "code",
   "execution_count": null,
   "metadata": {},
   "outputs": [],
   "source": [
    "import pandas as pd\n",
    "from sklearn.model_selection import train_test_split\n",
    "from sklearn.feature_extraction.text import TfidfVectorizer\n",
    "from sklearn.naive_bayes import MultinomialNB\n",
    "from sklearn.metrics import accuracy_score, classification_report\n",
    "\n",
    "# Split the data into training and testing sets\n",
    "train_df = df\n",
    "test_df = test_df\n",
    "\n",
    "# Vectorize the text using TF-IDF\n",
    "vectorizer = TfidfVectorizer()\n",
    "X_train = vectorizer.fit_transform(train_df['text'])\n",
    "y_train = train_df['emotion']\n",
    "\n",
    "X_test = vectorizer.transform(test_df['text'])\n",
    "# y_test = test_df['emotion']\n",
    "\n",
    "# Train a Multinomial Naive Bayes classifier\n",
    "classifier = MultinomialNB()\n",
    "classifier.fit(X_train, y_train)\n",
    "\n",
    "# Make predictions on the test set\n",
    "predictions = classifier.predict(X_test)\n"
   ]
  },
  {
   "cell_type": "code",
   "execution_count": null,
   "metadata": {},
   "outputs": [
    {
     "name": "stdout",
     "output_type": "stream",
     "text": [
      "         id  emotion\n",
      "0  0x28cc61      joy\n",
      "1  0x2db41f  sadness\n",
      "2  0x2466f6      joy\n",
      "3  0x23f9e9      joy\n",
      "4  0x1fb4e1      joy\n"
     ]
    },
    {
     "data": {
      "text/plain": [
       "(411972, 2)"
      ]
     },
     "execution_count": 12,
     "metadata": {},
     "output_type": "execute_result"
    }
   ],
   "source": [
    "submission = pd.DataFrame()\n",
    "submission['id'] = test_df['tweet_id']\n",
    "submission['emotion'] = predictions\n",
    "print(submission.head())\n",
    "\n",
    "submission.to_csv('submission_tfidf.csv', index=False)\n",
    "submission.shape"
   ]
  },
  {
   "cell_type": "markdown",
   "metadata": {},
   "source": [
    "#### Decision Tree"
   ]
  },
  {
   "cell_type": "code",
   "execution_count": 37,
   "metadata": {},
   "outputs": [
    {
     "name": "stdout",
     "output_type": "stream",
     "text": [
      "         id  emotion\n",
      "0  0x28cc61  sadness\n",
      "1  0x2db41f      joy\n",
      "2  0x2466f6      joy\n",
      "3  0x23f9e9      joy\n",
      "4  0x1fb4e1      joy\n"
     ]
    },
    {
     "data": {
      "text/plain": [
       "(411972, 2)"
      ]
     },
     "execution_count": 37,
     "metadata": {},
     "output_type": "execute_result"
    }
   ],
   "source": [
    "import pandas as pd\n",
    "from sklearn.model_selection import train_test_split\n",
    "from sklearn.feature_extraction.text import TfidfVectorizer\n",
    "from sklearn.tree import DecisionTreeClassifier\n",
    "from sklearn.naive_bayes import MultinomialNB\n",
    "from sklearn.metrics import accuracy_score, classification_report\n",
    "\n",
    "# Assuming 'df' is your original DataFrame with 'text' and 'emotion' columns\n",
    "# Split the data into training and testing sets\n",
    "train_df = df\n",
    "test_df = test_df\n",
    "\n",
    "vectorizer = CountVectorizer(max_features=700, tokenizer=nltk.word_tokenize)\n",
    "X_train = vectorizer.fit_transform(train_df['text'])\n",
    "y_train = train_df['emotion']\n",
    "\n",
    "X_test = vectorizer.transform(test_df['text'])\n",
    "# y_test = test_df['emotion']\n",
    "\n",
    "# Train a Decision Tree classifier\n",
    "dt_classifier = DecisionTreeClassifier(random_state=30, min_samples_leaf = 8, max_depth = 16)\n",
    "dt_classifier.fit(X_train, y_train)\n",
    "\n",
    "# Make predictions on the test set using Decision Tree\n",
    "dt_predictions = dt_classifier.predict(X_test)\n",
    "\n",
    "submission = pd.DataFrame()\n",
    "submission['id'] = test_df['tweet_id']\n",
    "submission['emotion'] = dt_predictions\n",
    "print(submission.head())\n",
    "\n",
    "submission.to_csv('submission_tree.csv', index=False)\n",
    "submission.shape\n"
   ]
  },
  {
   "cell_type": "markdown",
   "metadata": {},
   "source": [
    "#### hugging face"
   ]
  },
  {
   "cell_type": "code",
   "execution_count": 13,
   "metadata": {},
   "outputs": [
    {
     "name": "stderr",
     "output_type": "stream",
     "text": [
      "c:\\Python310\\lib\\site-packages\\tqdm\\auto.py:22: TqdmWarning: IProgress not found. Please update jupyter and ipywidgets. See https://ipywidgets.readthedocs.io/en/stable/user_install.html\n",
      "  from .autonotebook import tqdm as notebook_tqdm\n",
      "C:\\Users\\user\\AppData\\Roaming\\Python\\Python310\\site-packages\\transformers\\pipelines\\text_classification.py:89: UserWarning: `return_all_scores` is now deprecated, use `top_k=1` if you want similar functionnality\n",
      "  warnings.warn(\n"
     ]
    }
   ],
   "source": [
    "from transformers import pipeline\n",
    "classifier = pipeline(\"text-classification\", model=\"j-hartmann/emotion-english-distilroberta-base\", return_all_scores=True)"
   ]
  },
  {
   "cell_type": "markdown",
   "metadata": {},
   "source": [
    "#### neutral to be anticipation or trust"
   ]
  },
  {
   "cell_type": "code",
   "execution_count": 20,
   "metadata": {},
   "outputs": [
    {
     "name": "stdout",
     "output_type": "stream",
     "text": [
      "411000\n"
     ]
    },
    {
     "data": {
      "text/plain": [
       "(411972, 2)"
      ]
     },
     "execution_count": 20,
     "metadata": {},
     "output_type": "execute_result"
    }
   ],
   "source": [
    "submission = pd.read_csv('submission.csv')\n",
    "\n",
    "# Initialize the WordNet lemmatizer\n",
    "lemmatizer = WordNetLemmatizer()\n",
    "\n",
    "# List of anticipation verbs\n",
    "anticipation_verbs = ['anticipate','anticipat' ,'hop', 'hope', 'yearn', 'crave', 'envision', 'wish', 'aspire']\n",
    "\n",
    "for index in range(411000, 411972):\n",
    "    id = submission.loc[index, 'id']\n",
    "    if index % 1000 == 0:\n",
    "        submission.to_csv('submission.csv', index=False)\n",
    "        print(index)\n",
    "        \n",
    "    t = test_df[test_df['tweet_id'] == id]['text'].values[0]\n",
    "    predict = classifier(t)\n",
    "    result =  max(predict[0], key=lambda x: x['score'])['label'] \n",
    "\n",
    "    \n",
    "    if result == 'neutral':\n",
    "        # Tokenize the text into words\n",
    "        words = word_tokenize(t)\n",
    "        pos_tags = pos_tag(words)\n",
    "        verbs = [lemmatizer.lemmatize(word, pos='v') for word, pos in pos_tags if pos.startswith('V')]\n",
    "        lemmatized_words = [lemmatizer.lemmatize(word, pos='v') for word in verbs]\n",
    "        \n",
    "        # Check if any stemmed words match anticipation verbs\n",
    "        matches = [word for word in lemmatized_words if word in anticipation_verbs]\n",
    "        \n",
    "        if matches:\n",
    "            submission.loc[submission['id'] == id, 'emotion'] = 'anticipation'\n",
    "        else:\n",
    "            submission.loc[submission['id'] == id, 'emotion'] = 'trust'\n",
    "    else:\n",
    "        submission.loc[submission['id'] == id, 'emotion'] = result\n",
    "            \n",
    "submission.to_csv('submission.csv', index=False)\n",
    "submission.shape\n",
    "            "
   ]
  },
  {
   "cell_type": "markdown",
   "metadata": {},
   "source": [
    "#### neutral to be the prediction of tfidf"
   ]
  },
  {
   "cell_type": "code",
   "execution_count": null,
   "metadata": {},
   "outputs": [],
   "source": [
    "submission = pd.read_csv('submission.csv')\n",
    "submission_tfidf = pd.read_csv('submission_tfidf.csv')\n",
    "\n",
    "for index in range(0, 411972):\n",
    "    id = submission.loc[index, 'id']\n",
    "    if index % 1000 == 0:\n",
    "        submission.to_csv('sub.csv', index=False)\n",
    "        print(index)\n",
    "    \n",
    "    if submission.loc[index, 'emotion'] == 'anticipation' or submission.loc[index, 'emotion'] == 'trust':\n",
    "        submission.loc[submission['id'] == id, 'emotion'] = submission_tfidf.loc[index, 'emotion']\n",
    "            \n",
    "submission.to_csv('sub.csv', index=False)\n",
    "submission.shape"
   ]
  }
 ],
 "metadata": {
  "kernelspec": {
   "display_name": "Python 3",
   "language": "python",
   "name": "python3"
  },
  "language_info": {
   "codemirror_mode": {
    "name": "ipython",
    "version": 3
   },
   "file_extension": ".py",
   "mimetype": "text/x-python",
   "name": "python",
   "nbconvert_exporter": "python",
   "pygments_lexer": "ipython3",
   "version": "3.10.4"
  }
 },
 "nbformat": 4,
 "nbformat_minor": 2
}
